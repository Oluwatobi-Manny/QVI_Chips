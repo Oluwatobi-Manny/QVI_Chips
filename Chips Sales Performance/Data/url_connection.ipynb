{
 "cells": [
  {
   "cell_type": "code",
   "execution_count": null,
   "metadata": {},
   "outputs": [],
   "source": [
    "# Library\n",
    "import pandas as pd"
   ]
  },
  {
   "cell_type": "code",
   "execution_count": null,
   "metadata": {},
   "outputs": [],
   "source": [
    "# Google Drive file ID\n",
    "transaction_file_id = '1NI9Oe5CtVxC8VTsSqf5DZbmpPVs3FIjy'\n",
    "behaviour_file_id = '10uv1JmDeV7VyAPh_oNiRxeAEzT3YUL4f'\n",
    "\n",
    "# Construct the direct download URL\n",
    "tran_url = f'https://drive.google.com/uc?export=download&id={transaction_file_id}'\n",
    "behav_url = f'https://drive.google.com/uc?export=download&id={behaviour_file_id}'"
   ]
  },
  {
   "cell_type": "code",
   "execution_count": null,
   "metadata": {},
   "outputs": [],
   "source": [
    "# QVI transaction file"
   ]
  },
  {
   "cell_type": "code",
   "execution_count": null,
   "metadata": {},
   "outputs": [],
   "source": [
    "# Read file\n",
    "tran_file_path = tran_url\n",
    "behav_file_path = behav_url\n",
    "\n",
    "tran_df = pd.read_excel(tran_file_path)"
   ]
  },
  {
   "cell_type": "code",
   "execution_count": null,
   "metadata": {},
   "outputs": [],
   "source": [
    "# Read the url into a DataFrame\n",
    "behav_df = pd.read_csv(behav_url, engine='python')"
   ]
  }
 ],
 "metadata": {
  "language_info": {
   "name": "python"
  }
 },
 "nbformat": 4,
 "nbformat_minor": 2
}
